{
 "cells": [
  {
   "cell_type": "code",
   "execution_count": 1,
   "metadata": {
    "colab": {
     "base_uri": "https://localhost:8080/",
     "height": 304
    },
    "id": "i2aN1jpU7I6F",
    "outputId": "762a09c2-c7a4-4845-99b8-af27bdfb4537"
   },
   "outputs": [
    {
     "name": "stdout",
     "output_type": "stream",
     "text": [
      "YF.download() has changed argument auto_adjust default to True\n"
     ]
    },
    {
     "name": "stderr",
     "output_type": "stream",
     "text": [
      "[*********************100%***********************]  1 of 1 completed\n"
     ]
    },
    {
     "data": {
      "text/html": [
       "<div>\n",
       "<style scoped>\n",
       "    .dataframe tbody tr th:only-of-type {\n",
       "        vertical-align: middle;\n",
       "    }\n",
       "\n",
       "    .dataframe tbody tr th {\n",
       "        vertical-align: top;\n",
       "    }\n",
       "\n",
       "    .dataframe thead tr th {\n",
       "        text-align: left;\n",
       "    }\n",
       "\n",
       "    .dataframe thead tr:last-of-type th {\n",
       "        text-align: right;\n",
       "    }\n",
       "</style>\n",
       "<table border=\"1\" class=\"dataframe\">\n",
       "  <thead>\n",
       "    <tr>\n",
       "      <th>Price</th>\n",
       "      <th>Close</th>\n",
       "      <th>High</th>\n",
       "      <th>Low</th>\n",
       "      <th>Open</th>\n",
       "      <th>Volume</th>\n",
       "    </tr>\n",
       "    <tr>\n",
       "      <th>Ticker</th>\n",
       "      <th>AAPL</th>\n",
       "      <th>AAPL</th>\n",
       "      <th>AAPL</th>\n",
       "      <th>AAPL</th>\n",
       "      <th>AAPL</th>\n",
       "    </tr>\n",
       "    <tr>\n",
       "      <th>Date</th>\n",
       "      <th></th>\n",
       "      <th></th>\n",
       "      <th></th>\n",
       "      <th></th>\n",
       "      <th></th>\n",
       "    </tr>\n",
       "  </thead>\n",
       "  <tbody>\n",
       "    <tr>\n",
       "      <th>2020-01-02</th>\n",
       "      <td>72.716072</td>\n",
       "      <td>72.776598</td>\n",
       "      <td>71.466812</td>\n",
       "      <td>71.721019</td>\n",
       "      <td>135480400</td>\n",
       "    </tr>\n",
       "    <tr>\n",
       "      <th>2020-01-03</th>\n",
       "      <td>72.009125</td>\n",
       "      <td>72.771752</td>\n",
       "      <td>71.783969</td>\n",
       "      <td>71.941336</td>\n",
       "      <td>146322800</td>\n",
       "    </tr>\n",
       "    <tr>\n",
       "      <th>2020-01-06</th>\n",
       "      <td>72.582909</td>\n",
       "      <td>72.621646</td>\n",
       "      <td>70.876075</td>\n",
       "      <td>71.127866</td>\n",
       "      <td>118387200</td>\n",
       "    </tr>\n",
       "    <tr>\n",
       "      <th>2020-01-07</th>\n",
       "      <td>72.241539</td>\n",
       "      <td>72.849216</td>\n",
       "      <td>72.021223</td>\n",
       "      <td>72.592586</td>\n",
       "      <td>108872000</td>\n",
       "    </tr>\n",
       "    <tr>\n",
       "      <th>2020-01-08</th>\n",
       "      <td>73.403656</td>\n",
       "      <td>73.706287</td>\n",
       "      <td>71.943766</td>\n",
       "      <td>71.943766</td>\n",
       "      <td>132079200</td>\n",
       "    </tr>\n",
       "  </tbody>\n",
       "</table>\n",
       "</div>"
      ],
      "text/plain": [
       "Price           Close       High        Low       Open     Volume\n",
       "Ticker           AAPL       AAPL       AAPL       AAPL       AAPL\n",
       "Date                                                             \n",
       "2020-01-02  72.716072  72.776598  71.466812  71.721019  135480400\n",
       "2020-01-03  72.009125  72.771752  71.783969  71.941336  146322800\n",
       "2020-01-06  72.582909  72.621646  70.876075  71.127866  118387200\n",
       "2020-01-07  72.241539  72.849216  72.021223  72.592586  108872000\n",
       "2020-01-08  73.403656  73.706287  71.943766  71.943766  132079200"
      ]
     },
     "execution_count": 1,
     "metadata": {},
     "output_type": "execute_result"
    }
   ],
   "source": [
    "#if user input\n",
    "import yfinance as yf\n",
    "\n",
    "def fetch_historical_data(ticker, start_date, end_date):\n",
    "    \"\"\"\n",
    "    Fetch historical stock data using yfinance.\n",
    "    \"\"\"\n",
    "    data = yf.download(ticker, start=start_date, end=end_date)\n",
    "    return data\n",
    "\n",
    "# Example usage\n",
    "ticker = \"AAPL\"  # User input\n",
    "start_date = \"2020-01-01\"  # User input\n",
    "end_date = \"2023-01-01\"  # User input\n",
    "data = fetch_historical_data(ticker, start_date, end_date)\n",
    "data.head()\n"
   ]
  },
  {
   "cell_type": "code",
   "execution_count": 2,
   "metadata": {
    "colab": {
     "base_uri": "https://localhost:8080/"
    },
    "id": "XO26BdiL7Uz8",
    "outputId": "969c74fc-3685-4891-d5f3-ec3611a23b74"
   },
   "outputs": [
    {
     "name": "stdout",
     "output_type": "stream",
     "text": [
      "           0\n",
      "0  72.716072\n",
      "1  72.009125\n",
      "2  72.582909\n",
      "3  72.241539\n",
      "4  73.403656\n"
     ]
    }
   ],
   "source": [
    "import numpy as np\n",
    "import pandas as pd\n",
    "from sklearn.preprocessing import MinMaxScaler\n",
    "\n",
    "prices = data['Close'].values.reshape(-1, 1)\n",
    "print(pd.DataFrame(prices).head())\n",
    "# Normalize data\n",
    "scaler = MinMaxScaler(feature_range=(0, 1))\n",
    "scaled_prices = scaler.fit_transform(prices)\n",
    "\n",
    "# Create sequences for LSTM\n",
    "def create_sequences(data, time_step=60):\n",
    "    X, y = [], []\n",
    "    for i in range(len(data) - time_step):\n",
    "        X.append(data[i:(i + time_step), 0])\n",
    "        y.append(data[i + time_step, 0])\n",
    "    return np.array(X), np.array(y)\n",
    "\n",
    "time_step = 60\n",
    "X, y = create_sequences(scaled_prices, time_step)\n",
    "X = X.reshape(X.shape[0], X.shape[1], 1)\n",
    "\n"
   ]
  },
  {
   "cell_type": "code",
   "execution_count": 12,
   "metadata": {
    "colab": {
     "base_uri": "https://localhost:8080/"
    },
    "id": "KCPhdgYL8Aud",
    "outputId": "fc1d6208-8c52-4338-8f96-32deb2b6ac63"
   },
   "outputs": [
    {
     "name": "stderr",
     "output_type": "stream",
     "text": [
      "C:\\Users\\acer\\anaconda3\\Lib\\site-packages\\keras\\src\\layers\\rnn\\rnn.py:200: UserWarning: Do not pass an `input_shape`/`input_dim` argument to a layer. When using Sequential models, prefer using an `Input(shape)` object as the first layer in the model instead.\n",
      "  super().__init__(**kwargs)\n"
     ]
    },
    {
     "name": "stdout",
     "output_type": "stream",
     "text": [
      "Epoch 1/20\n",
      "\u001b[1m22/22\u001b[0m \u001b[32m━━━━━━━━━━━━━━━━━━━━\u001b[0m\u001b[37m\u001b[0m \u001b[1m8s\u001b[0m 67ms/step - loss: 0.1869 - mean_absolute_error: 0.3456 - root_mean_squared_error: 0.4137\n",
      "Epoch 2/20\n",
      "\u001b[1m22/22\u001b[0m \u001b[32m━━━━━━━━━━━━━━━━━━━━\u001b[0m\u001b[37m\u001b[0m \u001b[1m2s\u001b[0m 71ms/step - loss: 0.0076 - mean_absolute_error: 0.0721 - root_mean_squared_error: 0.0872\n",
      "Epoch 3/20\n",
      "\u001b[1m22/22\u001b[0m \u001b[32m━━━━━━━━━━━━━━━━━━━━\u001b[0m\u001b[37m\u001b[0m \u001b[1m2s\u001b[0m 52ms/step - loss: 0.0043 - mean_absolute_error: 0.0538 - root_mean_squared_error: 0.0652\n",
      "Epoch 4/20\n",
      "\u001b[1m22/22\u001b[0m \u001b[32m━━━━━━━━━━━━━━━━━━━━\u001b[0m\u001b[37m\u001b[0m \u001b[1m1s\u001b[0m 51ms/step - loss: 0.0029 - mean_absolute_error: 0.0433 - root_mean_squared_error: 0.0536\n",
      "Epoch 5/20\n",
      "\u001b[1m22/22\u001b[0m \u001b[32m━━━━━━━━━━━━━━━━━━━━\u001b[0m\u001b[37m\u001b[0m \u001b[1m1s\u001b[0m 52ms/step - loss: 0.0023 - mean_absolute_error: 0.0382 - root_mean_squared_error: 0.0478\n",
      "Epoch 6/20\n",
      "\u001b[1m22/22\u001b[0m \u001b[32m━━━━━━━━━━━━━━━━━━━━\u001b[0m\u001b[37m\u001b[0m \u001b[1m2s\u001b[0m 72ms/step - loss: 0.0020 - mean_absolute_error: 0.0354 - root_mean_squared_error: 0.0449\n",
      "Epoch 7/20\n",
      "\u001b[1m22/22\u001b[0m \u001b[32m━━━━━━━━━━━━━━━━━━━━\u001b[0m\u001b[37m\u001b[0m \u001b[1m2s\u001b[0m 53ms/step - loss: 0.0022 - mean_absolute_error: 0.0370 - root_mean_squared_error: 0.0465\n",
      "Epoch 8/20\n",
      "\u001b[1m22/22\u001b[0m \u001b[32m━━━━━━━━━━━━━━━━━━━━\u001b[0m\u001b[37m\u001b[0m \u001b[1m1s\u001b[0m 53ms/step - loss: 0.0020 - mean_absolute_error: 0.0352 - root_mean_squared_error: 0.0444\n",
      "Epoch 9/20\n",
      "\u001b[1m22/22\u001b[0m \u001b[32m━━━━━━━━━━━━━━━━━━━━\u001b[0m\u001b[37m\u001b[0m \u001b[1m1s\u001b[0m 54ms/step - loss: 0.0021 - mean_absolute_error: 0.0359 - root_mean_squared_error: 0.0455\n",
      "Epoch 10/20\n",
      "\u001b[1m22/22\u001b[0m \u001b[32m━━━━━━━━━━━━━━━━━━━━\u001b[0m\u001b[37m\u001b[0m \u001b[1m2s\u001b[0m 69ms/step - loss: 0.0021 - mean_absolute_error: 0.0372 - root_mean_squared_error: 0.0458\n",
      "Epoch 11/20\n",
      "\u001b[1m22/22\u001b[0m \u001b[32m━━━━━━━━━━━━━━━━━━━━\u001b[0m\u001b[37m\u001b[0m \u001b[1m2s\u001b[0m 49ms/step - loss: 0.0020 - mean_absolute_error: 0.0350 - root_mean_squared_error: 0.0449\n",
      "Epoch 12/20\n",
      "\u001b[1m22/22\u001b[0m \u001b[32m━━━━━━━━━━━━━━━━━━━━\u001b[0m\u001b[37m\u001b[0m \u001b[1m1s\u001b[0m 52ms/step - loss: 0.0019 - mean_absolute_error: 0.0346 - root_mean_squared_error: 0.0432\n",
      "Epoch 13/20\n",
      "\u001b[1m22/22\u001b[0m \u001b[32m━━━━━━━━━━━━━━━━━━━━\u001b[0m\u001b[37m\u001b[0m \u001b[1m1s\u001b[0m 50ms/step - loss: 0.0020 - mean_absolute_error: 0.0351 - root_mean_squared_error: 0.0447\n",
      "Epoch 14/20\n",
      "\u001b[1m22/22\u001b[0m \u001b[32m━━━━━━━━━━━━━━━━━━━━\u001b[0m\u001b[37m\u001b[0m \u001b[1m2s\u001b[0m 67ms/step - loss: 0.0018 - mean_absolute_error: 0.0336 - root_mean_squared_error: 0.0424\n",
      "Epoch 15/20\n",
      "\u001b[1m22/22\u001b[0m \u001b[32m━━━━━━━━━━━━━━━━━━━━\u001b[0m\u001b[37m\u001b[0m \u001b[1m2s\u001b[0m 53ms/step - loss: 0.0019 - mean_absolute_error: 0.0344 - root_mean_squared_error: 0.0432\n",
      "Epoch 16/20\n",
      "\u001b[1m22/22\u001b[0m \u001b[32m━━━━━━━━━━━━━━━━━━━━\u001b[0m\u001b[37m\u001b[0m \u001b[1m1s\u001b[0m 49ms/step - loss: 0.0018 - mean_absolute_error: 0.0337 - root_mean_squared_error: 0.0426\n",
      "Epoch 17/20\n",
      "\u001b[1m22/22\u001b[0m \u001b[32m━━━━━━━━━━━━━━━━━━━━\u001b[0m\u001b[37m\u001b[0m \u001b[1m1s\u001b[0m 54ms/step - loss: 0.0018 - mean_absolute_error: 0.0326 - root_mean_squared_error: 0.0421\n",
      "Epoch 18/20\n",
      "\u001b[1m22/22\u001b[0m \u001b[32m━━━━━━━━━━━━━━━━━━━━\u001b[0m\u001b[37m\u001b[0m \u001b[1m2s\u001b[0m 70ms/step - loss: 0.0015 - mean_absolute_error: 0.0305 - root_mean_squared_error: 0.0385\n",
      "Epoch 19/20\n",
      "\u001b[1m22/22\u001b[0m \u001b[32m━━━━━━━━━━━━━━━━━━━━\u001b[0m\u001b[37m\u001b[0m \u001b[1m2s\u001b[0m 52ms/step - loss: 0.0015 - mean_absolute_error: 0.0300 - root_mean_squared_error: 0.0382\n",
      "Epoch 20/20\n",
      "\u001b[1m22/22\u001b[0m \u001b[32m━━━━━━━━━━━━━━━━━━━━\u001b[0m\u001b[37m\u001b[0m \u001b[1m1s\u001b[0m 51ms/step - loss: 0.0016 - mean_absolute_error: 0.0306 - root_mean_squared_error: 0.0394\n",
      "\u001b[1m22/22\u001b[0m \u001b[32m━━━━━━━━━━━━━━━━━━━━\u001b[0m\u001b[37m\u001b[0m \u001b[1m1s\u001b[0m 23ms/step - loss: 0.0011 - mean_absolute_error: 0.0252 - root_mean_squared_error: 0.0331\n"
     ]
    },
    {
     "name": "stderr",
     "output_type": "stream",
     "text": [
      "WARNING:absl:You are saving your model as an HDF5 file via `model.save()` or `keras.saving.save_model(model)`. This file format is considered legacy. We recommend using instead the native Keras format, e.g. `model.save('my_model.keras')` or `keras.saving.save_model(model, 'my_model.keras')`. \n"
     ]
    },
    {
     "name": "stdout",
     "output_type": "stream",
     "text": [
      "Test Loss: 0.0014502565609291196\n",
      "Test MAE: 0.029627498239278793\n",
      "Test RMSE: 0.03808223456144333\n"
     ]
    }
   ],
   "source": [
    "from tensorflow.keras.models import Sequential\n",
    "from tensorflow.keras.layers import LSTM, Dense\n",
    "from tensorflow.keras.metrics import MeanAbsoluteError, RootMeanSquaredError\n",
    "\n",
    "# Build LSTM model\n",
    "model = Sequential()\n",
    "model.add(LSTM(50, return_sequences=True, input_shape=(time_step, 1)))\n",
    "model.add(LSTM(50, return_sequences=False))\n",
    "model.add(Dense(25))\n",
    "model.add(Dense(1))\n",
    "\n",
    "model.compile(optimizer='adam', loss='mean_squared_error',metrics=[MeanAbsoluteError(), RootMeanSquaredError()])\n",
    "model.fit(X, y, epochs=20, batch_size=32, verbose=1)\n",
    "loss, mae, rmse = model.evaluate(X, y, verbose=1)\n",
    "\n",
    "print(f\"Test Loss: {loss}\")\n",
    "print(f\"Test MAE: {mae}\")\n",
    "print(f\"Test RMSE: {rmse}\")\n",
    "# Save the model\n",
    "model.save('stock_lstm_model.h5')"
   ]
  },
  {
   "cell_type": "code",
   "execution_count": 4,
   "metadata": {
    "colab": {
     "base_uri": "https://localhost:8080/"
    },
    "id": "TjXeJlKi9QJb",
    "outputId": "cba0cdf4-8836-4a31-9a31-4688617b1942"
   },
   "outputs": [
    {
     "name": "stdin",
     "output_type": "stream",
     "text": [
      "Enter the stock ticker symbol (e.g., AAPL):  AAPL\n"
     ]
    },
    {
     "name": "stderr",
     "output_type": "stream",
     "text": [
      "[*********************100%***********************]  1 of 1 completed"
     ]
    },
    {
     "name": "stdout",
     "output_type": "stream",
     "text": [
      "Latest Price: 214.1\n"
     ]
    },
    {
     "name": "stderr",
     "output_type": "stream",
     "text": [
      "\n"
     ]
    }
   ],
   "source": [
    "def fetch_real_time_data(ticker):\n",
    "    tick=yf.Ticker(ticker)\n",
    "    real_time_data = tick.info\n",
    "\n",
    "    try:\n",
    "\n",
    "        data = yf.download(ticker, period=\"1d\", interval=\"1m\")\n",
    "        latest_price = real_time_data[\"regularMarketPrice\"]\n",
    "        return latest_price\n",
    "    except Exception as e:\n",
    "        print(f\"Error fetching real-time data: {e}\")\n",
    "        return None\n",
    "\n",
    "# Get user input for the stock ticker\n",
    "ticker = input(\"Enter the stock ticker symbol (e.g., AAPL): \")\n",
    "\n",
    "# Fetch and print the latest price\n",
    "latest_price = fetch_real_time_data(ticker)\n",
    "\n",
    "if latest_price is not None:\n",
    "    print(\"Latest Price:\", latest_price)\n",
    "else:\n",
    "    print(\"Could not fetch real-time data.\")"
   ]
  },
  {
   "cell_type": "code",
   "execution_count": 5,
   "metadata": {
    "colab": {
     "base_uri": "https://localhost:8080/"
    },
    "id": "7Xrb51Bn_4ES",
    "outputId": "7b3bbb65-0dd6-48ce-8a09-585615c43ead"
   },
   "outputs": [
    {
     "name": "stderr",
     "output_type": "stream",
     "text": [
      "WARNING:absl:Compiled the loaded model, but the compiled metrics have yet to be built. `model.compile_metrics` will be empty until you train or evaluate the model.\n"
     ]
    },
    {
     "name": "stdout",
     "output_type": "stream",
     "text": [
      "\u001b[1m1/1\u001b[0m \u001b[32m━━━━━━━━━━━━━━━━━━━━\u001b[0m\u001b[37m\u001b[0m \u001b[1m1s\u001b[0m 522ms/step\n",
      "Predicted Price: 128.79425\n"
     ]
    }
   ],
   "source": [
    "from tensorflow.keras.models import load_model\n",
    "\n",
    "# Load the trained LSTM model\n",
    "model = load_model('stock_lstm_model.h5')\n",
    "\n",
    "# Prepare input for prediction\n",
    "last_60_prices = scaled_prices[-time_step:]\n",
    "\n",
    "last_60_prices = last_60_prices.reshape(1, time_step, 1)\n",
    "\n",
    "# Predict next price\n",
    "predicted_price_scaled = model.predict(last_60_prices)\n",
    "\n",
    "predicted_price = scaler.inverse_transform(predicted_price_scaled)\n",
    "\n",
    "print(\"Predicted Price:\", predicted_price[0][0])"
   ]
  },
  {
   "cell_type": "code",
   "execution_count": 6,
   "metadata": {
    "colab": {
     "base_uri": "https://localhost:8080/",
     "height": 668
    },
    "id": "-F4BcNPjAdWt",
    "outputId": "aed87911-bede-4f77-fb19-1a52aed1febf"
   },
   "outputs": [
    {
     "name": "stderr",
     "output_type": "stream",
     "text": [
      "WARNING:absl:Compiled the loaded model, but the compiled metrics have yet to be built. `model.compile_metrics` will be empty until you train or evaluate the model.\n"
     ]
    },
    {
     "name": "stdin",
     "output_type": "stream",
     "text": [
      "Enter the stock ticker symbol (e.g., AAPL):  AAPL\n"
     ]
    },
    {
     "name": "stderr",
     "output_type": "stream",
     "text": [
      "[*********************100%***********************]  1 of 1 completed\n"
     ]
    },
    {
     "name": "stdout",
     "output_type": "stream",
     "text": [
      "\u001b[1m1/1\u001b[0m \u001b[32m━━━━━━━━━━━━━━━━━━━━\u001b[0m\u001b[37m\u001b[0m \u001b[1m1s\u001b[0m 507ms/step\n"
     ]
    },
    {
     "name": "stdin",
     "output_type": "stream",
     "text": [
      "Enter the stock ticker symbol (e.g., AAPL):  AAPL\n"
     ]
    },
    {
     "name": "stderr",
     "output_type": "stream",
     "text": [
      "[*********************100%***********************]  1 of 1 completed\n"
     ]
    },
    {
     "data": {
      "image/png": "[encoded data removed]",
      "text/plain": [
       "<Figure size 1200x600 with 1 Axes>"
      ]
     },
     "metadata": {},
     "output_type": "display_data"
    }
   ],
   "source": [
    "import matplotlib.pyplot as plt\n",
    "import numpy as np\n",
    "import yfinance as yf\n",
    "from tensorflow.keras.models import load_model\n",
    "from sklearn.preprocessing import MinMaxScaler\n",
    "\n",
    "# Function to fetch real-time data\n",
    "def fetch_real_time_data(ticker):\n",
    "    tick = yf.Ticker(ticker)\n",
    "    real_time_data = tick.info\n",
    "\n",
    "    try:\n",
    "        data = yf.download(ticker, period=\"1d\", interval=\"1m\")\n",
    "        latest_price = real_time_data[\"regularMarketPrice\"]\n",
    "        return latest_price\n",
    "    except Exception as e:\n",
    "        print(f\"Error fetching real-time data: {e}\")\n",
    "        return None\n",
    "\n",
    "# Load the trained LSTM model\n",
    "model = load_model('stock_lstm_model.h5')\n",
    "ticker = input(\"Enter the stock ticker symbol (e.g., AAPL): \")\n",
    "\n",
    "# Example: Historical data (replace with your actual data)\n",
    "historical_data = yf.download(ticker, start=\"2020-01-01\", end=\"2025-03-20\")\n",
    "prices = historical_data['Close'].values.reshape(-1, 1)\n",
    "\n",
    "# Normalize the data\n",
    "scaler = MinMaxScaler(feature_range=(0, 1))\n",
    "scaled_prices = scaler.fit_transform(prices)\n",
    "\n",
    "# Prepare input for prediction\n",
    "time_step = 60\n",
    "last_60_prices = scaled_prices[-time_step:]\n",
    "last_60_prices = last_60_prices.reshape(1, time_step, 1)\n",
    "\n",
    "# Predict next price\n",
    "predicted_price_scaled = model.predict(last_60_prices)\n",
    "predicted_price = scaler.inverse_transform(predicted_price_scaled)[0][0]\n",
    "\n",
    "# Fetch real-time data\n",
    "ticker = input(\"Enter the stock ticker symbol (e.g., AAPL): \")\n",
    "latest_price = fetch_real_time_data(ticker)\n",
    "\n",
    "# Plot the data\n",
    "plt.figure(figsize=(12, 6))\n",
    "\n",
    "# Plot historical prices\n",
    "plt.plot(historical_data.index, prices, label='Historical Prices', color='blue')\n",
    "\n",
    "# Plot predicted price\n",
    "predicted_index = historical_data.index[-1] + pd.Timedelta(days=1)  # Next day\n",
    "plt.scatter(predicted_index, predicted_price, color='red', label='Predicted Price', s=100)\n",
    "\n",
    "# Plot latest price\n",
    "if latest_price is not None:\n",
    "    latest_index = historical_data.index[-1]  # Current time\n",
    "    plt.scatter(latest_index, latest_price, color='green', label='Latest Price', s=100)\n",
    "\n",
    "# Add labels and title\n",
    "plt.xlabel('Date')\n",
    "plt.ylabel('Price (USD)')\n",
    "plt.title(f'{ticker} Stock Price Prediction')\n",
    "plt.legend()\n",
    "plt.grid(True)\n",
    "\n",
    "\n",
    "# Show the plot\n",
    "plt.show()"
   ]
  },
  {
   "cell_type": "code",
   "execution_count": 7,
   "metadata": {
    "colab": {
     "base_uri": "https://localhost:8080/"
    },
    "id": "_XMukjgeCBuB",
    "outputId": "573c1be4-b8ac-40fc-cd8f-dc586503668d"
   },
   "outputs": [
    {
     "name": "stdout",
     "output_type": "stream",
     "text": [
      " * Serving Flask app '__main__'\n",
      " * Debug mode: on\n"
     ]
    },
    {
     "name": "stderr",
     "output_type": "stream",
     "text": [
      "INFO:werkzeug:\u001b[31m\u001b[1mWARNING: This is a development server. Do not use it in a production deployment. Use a production WSGI server instead.\u001b[0m\n",
      " * Running on http://127.0.0.1:5000\n",
      "INFO:werkzeug:\u001b[33mPress CTRL+C to quit\u001b[0m\n",
      "INFO:werkzeug: * Restarting with watchdog (windowsapi)\n"
     ]
    },
    {
     "ename": "SystemExit",
     "evalue": "1",
     "output_type": "error",
     "traceback": [
      "An exception has occurred, use %tb to see the full traceback.\n",
      "\u001b[1;31mSystemExit\u001b[0m\u001b[1;31m:\u001b[0m 1\n"
     ]
    },
    {
     "name": "stderr",
     "output_type": "stream",
     "text": [
      "C:\\Users\\acer\\anaconda3\\Lib\\site-packages\\IPython\\core\\interactiveshell.py:3585: UserWarning: To exit: use 'exit', 'quit', or Ctrl-D.\n",
      "  warn(\"To exit: use 'exit', 'quit', or Ctrl-D.\", stacklevel=1)\n"
     ]
    }
   ],
   "source": [
    "from flask import Flask, request, jsonify\n",
    "app = Flask(__name__)\n",
    "@app.route('/predict', methods=['GET'])\n",
    "def predict():\n",
    "    ticker = request.args.get('ticker')\n",
    "    if not ticker:\n",
    "        return jsonify({\"error\": \"Ticker symbol is required\"}), 400\n",
    "\n",
    "    # Fetch real-time data\n",
    "    latest_price = fetch_real_time_data(ticker)\n",
    "\n",
    "    # Predict next price\n",
    "    predicted_price = predict_next_price(ticker)\n",
    "\n",
    "    # Return results\n",
    "    return jsonify({\n",
    "        \"ticker\": ticker,\n",
    "        \"latest_price\": latest_price,\n",
    "        \"predicted_price\": predicted_price\n",
    "    })\n",
    "\n",
    "# Run the Flask app\n",
    "if __name__ == '__main__':\n",
    "    app.run(debug=True)\n"
   ]
  },
  {
   "cell_type": "code",
   "execution_count": null,
   "metadata": {
    "id": "o6x6g4hFHk1E"
   },
   "outputs": [],
   "source": []
  },
  {
   "cell_type": "code",
   "execution_count": null,
   "metadata": {},
   "outputs": [],
   "source": []
  }
 ],
 "metadata": {
  "colab": {
   "provenance": []
  },
  "kernelspec": {
   "display_name": "Python 3 (ipykernel)",
   "language": "python",
   "name": "python3"
  },
  "language_info": {
   "codemirror_mode": {
    "name": "ipython",
    "version": 3
   },
   "file_extension": ".py",
   "mimetype": "text/x-python",
   "name": "python",
   "nbconvert_exporter": "python",
   "pygments_lexer": "ipython3",
   "version": "3.12.3"
  }
 },
 "nbformat": 4,
 "nbformat_minor": 4
}
